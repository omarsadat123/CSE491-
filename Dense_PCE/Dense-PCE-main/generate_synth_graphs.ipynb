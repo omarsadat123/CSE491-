{
 "cells": [
  {
   "cell_type": "code",
   "execution_count": 3,
   "metadata": {},
   "outputs": [
    {
     "name": "stdout",
     "output_type": "stream",
     "text": [
      "Defaulting to user installation because normal site-packages is not writeable\n",
      "Requirement already satisfied: pip in /home/shoaib/.local/lib/python3.10/site-packages (24.3.1)\n",
      "Requirement already satisfied: setuptools in /home/shoaib/.local/lib/python3.10/site-packages (75.8.0)\n",
      "Requirement already satisfied: wheel in /home/shoaib/.local/lib/python3.10/site-packages (0.45.1)\n"
     ]
    }
   ],
   "source": [
    "! pip install --upgrade pip setuptools wheel\n",
    "! pip install -q networkx\n",
    "! pip install -q pandas\n",
    "! pip install -q matplotlib"
   ]
  },
  {
   "cell_type": "code",
   "execution_count": 43,
   "metadata": {
    "id": "w56EexxUPlOj"
   },
   "outputs": [],
   "source": [
    "from itertools import combinations\n",
    "import copy\n",
    "import networkx as nx\n",
    "import pandas as pd\n",
    "import matplotlib.pyplot as plt\n",
    "import os\n",
    "import math\n",
    "import glob\n",
    "import string\n",
    "import random\n",
    "import numpy as np\n",
    "from collections import OrderedDict"
   ]
  },
  {
   "cell_type": "markdown",
   "metadata": {},
   "source": [
    "# Scale Free Gragh (Barabási–Albert)"
   ]
  },
  {
   "cell_type": "code",
   "execution_count": 2,
   "metadata": {},
   "outputs": [],
   "source": [
    "import random\n",
    "import networkx as nx\n",
    "from networkx.generators.classic import empty_graph\n",
    "\n",
    "def barabasi_albert_graph(n, m, seed=None):\n",
    "    \"\"\"\n",
    "    Returns a random graph according to the Barabási–Albert preferential\n",
    "    attachment model.\n",
    "\n",
    "    A graph of `n` nodes is grown by attaching new nodes each with `m`\n",
    "    edges that are preferentially attached to existing nodes with high degree.\n",
    "\n",
    "    Parameters\n",
    "    ----------\n",
    "    n : int\n",
    "        Number of nodes.\n",
    "    m : int\n",
    "        Number of edges to attach from a new node to existing nodes.\n",
    "    seed : int, optional\n",
    "        Seed for random number generator (default=None).\n",
    "\n",
    "    Returns\n",
    "    -------\n",
    "    G : Graph\n",
    "\n",
    "    Raises\n",
    "    ------\n",
    "    NetworkXError\n",
    "        If `m` does not satisfy `1 <= m < n`.\n",
    "    \"\"\"\n",
    "    if m < 1 or m >= n:\n",
    "        raise nx.NetworkXError(\n",
    "            f\"Barabási–Albert network must have m >= 1 and m < n, m = {m}, n = {n}\"\n",
    "        )\n",
    "    if seed is not None:\n",
    "        random.seed(seed)\n",
    "\n",
    "    # Add m initial nodes (m0 in Barabási–Albert model)\n",
    "    G = empty_graph(m)\n",
    "    G.name = f\"barabasi_albert_graph({n},{m})\"\n",
    "    # Target nodes for new edges\n",
    "    targets = list(range(m))\n",
    "    # List of existing nodes, with nodes repeated once for each adjacent edge\n",
    "    repeated_nodes = []\n",
    "    # Start adding the other n-m nodes. The first new node is m.\n",
    "    source = m\n",
    "    while source < n:\n",
    "        # Add edges to m nodes from the source.\n",
    "        G.add_edges_from(zip([source] * m, targets))\n",
    "        # Add one node to the list for each new edge just created.\n",
    "        repeated_nodes.extend(targets)\n",
    "        # And the new node \"source\" has m edges to add to the list.\n",
    "        repeated_nodes.extend([source] * m)\n",
    "        # Now choose m unique nodes from the existing nodes\n",
    "        # Pick uniformly from repeated_nodes (preferential attachment)\n",
    "        targets = random.sample(repeated_nodes, m)\n",
    "        source += 1\n",
    "    return G\n"
   ]
  },
  {
   "cell_type": "code",
   "execution_count": 59,
   "metadata": {},
   "outputs": [],
   "source": [
    "import networkx as nx\n",
    "\n",
    "def generate_ba_graph(n, m):\n",
    "    \"\"\"\n",
    "    Generates a Barabási–Albert (BA) model graph using NetworkX.\n",
    "\n",
    "    Parameters:\n",
    "        n (int): Total number of nodes in the graph.\n",
    "        m (int): Number of edges to attach from a new node to existing nodes.\n",
    "\n",
    "    Returns:\n",
    "        nx.Graph: A NetworkX graph generated using the BA model.\n",
    "    \"\"\"\n",
    "    if m < 1 or m >= n:\n",
    "        raise ValueError(\"m must satisfy 1 <= m < n\")\n",
    "    \n",
    "    # Generate the graph using NetworkX's barabasi_albert_graph function\n",
    "    ba_graph = nx.barabasi_albert_graph(n, m)\n",
    "    \n",
    "    return ba_graph\n"
   ]
  },
  {
   "cell_type": "code",
   "execution_count": 62,
   "metadata": {},
   "outputs": [],
   "source": [
    "n = 100\n",
    "outdir=f'./synth-graphs-{n}/'\n",
    "indir=f'./synth-graphs-{n}/'\n",
    "\n",
    "!mkdir 'synth-graphs-{n}/'\n",
    "mvals = [i for i in range(10, 100, 5)]\n",
    "\n",
    "\n",
    "def scale_free_graph():\n",
    "    for m in mvals: #idx, m in enumerate(mvals):\n",
    "        # g = barabasi_albert_graph(n, m, None)\n",
    "        g = generate_ba_graph(n,m)\n",
    "        edges = g.edges()\n",
    "        file_name = f'./synth-graphs-{n}/scale_free_graph_m_{m}.txt'\n",
    "        with open(file_name, 'w') as fp:\n",
    "            fp.write('\\n'.join('{} {}'.format(x[0],x[1]) for x in edges))\n",
    "\n",
    "scale_free_graph()\n",
    "\n",
    "#convert scale free graphs\n",
    "for m in mvals:\n",
    "    file_name = 'scale_free_graph_m_'+str(m)\n",
    "    os.system('./transgrh.pl < '+ indir+file_name+'.txt' +' > ' + outdir+file_name+'.grh')\n",
    "\n",
    "! rm synth-graphs-{n}/*.txt"
   ]
  },
  {
   "cell_type": "code",
   "execution_count": 9,
   "metadata": {},
   "outputs": [
    {
     "name": "stdout",
     "output_type": "stream",
     "text": [
      "rm: cannot remove 'synth-graphs-1000/*.txt': No such file or directory\n"
     ]
    }
   ],
   "source": []
  },
  {
   "cell_type": "code",
   "execution_count": 44,
   "metadata": {},
   "outputs": [
    {
     "data": {
      "image/png": "[encoded data removed]",
      "text/plain": [
       "<Figure size 640x480 with 1 Axes>"
      ]
     },
     "metadata": {},
     "output_type": "display_data"
    }
   ],
   "source": [
    "import networkx as nx\n",
    "import random\n",
    "\n",
    "def generate_graph_with_density(num_nodes, density, directed=False):\n",
    "    # Calculate the maximum number of edges\n",
    "    max_edges = num_nodes * (num_nodes - 1)\n",
    "    if not directed:\n",
    "        max_edges //= 2  # Adjust for undirected graph\n",
    "\n",
    "    # Calculate the required number of edges for the given density\n",
    "    num_edges = int(density * max_edges)\n",
    "\n",
    "    # Create an empty graph\n",
    "    G = nx.DiGraph() if directed else nx.Graph()\n",
    "    G.add_nodes_from(range(num_nodes))\n",
    "\n",
    "    # Randomly add the required number of edges\n",
    "    all_possible_edges = list(nx.non_edges(G))  # Get all possible edges\n",
    "    chosen_edges = random.sample(all_possible_edges, num_edges)\n",
    "    G.add_edges_from(chosen_edges)\n",
    "\n",
    "    return G\n",
    "\n",
    "# Example Usage\n",
    "num_nodes = 5\n",
    "desired_density = 1.0\n",
    "graph = generate_graph_with_density(num_nodes, desired_density)\n",
    "\n",
    "# # Print basic information\n",
    "# print(f\"Generated graph summary: {graph.summary()}\")\n",
    "# print(f\"Actual density: {nx.density(graph)}\")\n",
    "\n",
    "# Draw the graph\n",
    "import matplotlib.pyplot as plt\n",
    "nx.draw(graph, with_labels=True)\n",
    "plt.show()\n"
   ]
  },
  {
   "cell_type": "code",
   "execution_count": 57,
   "metadata": {},
   "outputs": [],
   "source": [
    "import os\n",
    "import random\n",
    "import networkx as nx\n",
    "\n",
    "\n",
    "outdir = './density_graphs/'\n",
    "indir = './density_graphs/'\n",
    "\n",
    "# Ensure the directory exists\n",
    "os.makedirs(outdir, exist_ok=True)\n",
    "\n",
    "nodes_counts = [100] #, 150, 200, 250, 300, 350, 400, 450, 500, 600, 700, 800, 900, 1000]\n",
    "# nodes_counts = [i for i in range(50, 2000, 50)]\n",
    "# densities = [0.01, 0.05, 0.1, 0.15, 0.20, 0.25, 0.30, 0.35]\n",
    "densities = [ i / 100 for i in range(1, 70, 1)]\n",
    "# densities = [0.1]\n",
    "\n",
    "# Function to generate and save density graphs\n",
    "def generate_graph_with_density(num_nodes, density, directed=False):\n",
    "    max_edges = num_nodes * (num_nodes - 1)\n",
    "    if not directed:\n",
    "        max_edges //= 2\n",
    "    num_edges = int(density * max_edges)\n",
    "    \n",
    "    # print(max_edges, num_edges, density)\n",
    "    \n",
    "    G = nx.DiGraph() if directed else nx.Graph()\n",
    "    G.add_nodes_from(range(num_nodes))\n",
    "    all_possible_edges = list(nx.non_edges(G))\n",
    "    chosen_edges = random.sample(all_possible_edges, num_edges)\n",
    "    G.add_edges_from(chosen_edges)\n",
    "    return G\n",
    "\n",
    "def density_graphs():\n",
    "    for n in nodes_counts:\n",
    "        for d in densities:\n",
    "            g = generate_graph_with_density(n, d, directed=False)  # Undirected graph\n",
    "            edges = g.edges()\n",
    "            density_str = f\"{d:.2f}\".replace(\"0.\", \"\")  # Clean density representation\n",
    "            file_name = f\"{outdir}nodes_{n}_density_{density_str}.txt\"\n",
    "            with open(file_name, \"w\") as fp:\n",
    "                fp.write('\\n'.join(f\"{x[0]} {x[1]}\" for x in edges))\n",
    "\n",
    "density_graphs()\n",
    "\n",
    "#convert scale free graphs\n",
    "for n in nodes_counts:\n",
    "    for d in densities:\n",
    "        density_str = f\"{d:.2f}\".replace(\"0.\", \"\")  # Clean density representation\n",
    "        \n",
    "        file_name = f\"nodes_{n}_density_{density_str}\"\n",
    "        os.system('./transgrh.pl < '+ indir+file_name+'.txt' +' > ' + outdir+file_name+'.grh')\n",
    "\n",
    "! rm density_graphs/*.txt"
   ]
  },
  {
   "cell_type": "code",
   "execution_count": 56,
   "metadata": {},
   "outputs": [],
   "source": [
    "! rm density_graphs/*.grh\n",
    "# ! rm density_graphs/*.txt"
   ]
  },
  {
   "cell_type": "code",
   "execution_count": null,
   "metadata": {},
   "outputs": [],
   "source": []
  },
  {
   "cell_type": "code",
   "execution_count": null,
   "metadata": {},
   "outputs": [],
   "source": []
  },
  {
   "cell_type": "code",
   "execution_count": null,
   "metadata": {},
   "outputs": [],
   "source": []
  }
 ],
 "metadata": {
  "colab": {
   "provenance": []
  },
  "kernelspec": {
   "display_name": "Python 3 (ipykernel)",
   "language": "python",
   "name": "python3"
  },
  "language_info": {
   "codemirror_mode": {
    "name": "ipython",
    "version": 3
   },
   "file_extension": ".py",
   "mimetype": "text/x-python",
   "name": "python",
   "nbconvert_exporter": "python",
   "pygments_lexer": "ipython3",
   "version": "3.10.12"
  }
 },
 "nbformat": 4,
 "nbformat_minor": 4
}
